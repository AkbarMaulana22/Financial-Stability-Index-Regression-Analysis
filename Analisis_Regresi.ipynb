{
 "cells": [
  {
   "cell_type": "markdown",
   "metadata": {},
   "source": [
    "### Import Library"
   ]
  },
  {
   "cell_type": "code",
   "execution_count": 1,
   "metadata": {},
   "outputs": [],
   "source": [
    "import numpy as np #Operasi Matematika dan linear aljebra\n",
    "import pandas as pd #data processing\n",
    "import matplotlib.pyplot as plt #Visualisasi data\n",
    "%matplotlib inline\n",
    "import seaborn as sns #Visualisasi data"
   ]
  },
  {
   "cell_type": "markdown",
   "metadata": {},
   "source": [
    "### Load Datasets"
   ]
  },
  {
   "cell_type": "code",
   "execution_count": 2,
   "metadata": {},
   "outputs": [],
   "source": [
    "data = pd.read_csv('E:/Shift/Data.csv',sep=\";\")"
   ]
  },
  {
   "cell_type": "code",
   "execution_count": 3,
   "metadata": {},
   "outputs": [
    {
     "data": {
      "text/plain": [
       "(50, 6)"
      ]
     },
     "execution_count": 3,
     "metadata": {},
     "output_type": "execute_result"
    }
   ],
   "source": [
    "#Cek dimensi data\n",
    "data.shape"
   ]
  },
  {
   "cell_type": "code",
   "execution_count": 4,
   "metadata": {},
   "outputs": [
    {
     "data": {
      "text/html": [
       "<div>\n",
       "<style scoped>\n",
       "    .dataframe tbody tr th:only-of-type {\n",
       "        vertical-align: middle;\n",
       "    }\n",
       "\n",
       "    .dataframe tbody tr th {\n",
       "        vertical-align: top;\n",
       "    }\n",
       "\n",
       "    .dataframe thead th {\n",
       "        text-align: right;\n",
       "    }\n",
       "</style>\n",
       "<table border=\"1\" class=\"dataframe\">\n",
       "  <thead>\n",
       "    <tr style=\"text-align: right;\">\n",
       "      <th></th>\n",
       "      <th>Indeks stabilitas sistem keuangan</th>\n",
       "      <th>IHSG</th>\n",
       "      <th>IHPR</th>\n",
       "      <th>Perkembangan Kredit</th>\n",
       "      <th>Kurs</th>\n",
       "      <th>Jumlah uang  beredar</th>\n",
       "    </tr>\n",
       "  </thead>\n",
       "  <tbody>\n",
       "    <tr>\n",
       "      <th>0</th>\n",
       "      <td>0.96</td>\n",
       "      <td>2598.33</td>\n",
       "      <td>131.89</td>\n",
       "      <td>1158.72</td>\n",
       "      <td>9.59</td>\n",
       "      <td>1991.58</td>\n",
       "    </tr>\n",
       "    <tr>\n",
       "      <th>1</th>\n",
       "      <td>0.96</td>\n",
       "      <td>416.67</td>\n",
       "      <td>135.89</td>\n",
       "      <td>133.03</td>\n",
       "      <td>8.48</td>\n",
       "      <td>684.34</td>\n",
       "    </tr>\n",
       "    <tr>\n",
       "      <th>2</th>\n",
       "      <td>1.06</td>\n",
       "      <td>1069.48</td>\n",
       "      <td>124.97</td>\n",
       "      <td>446.02</td>\n",
       "      <td>9.10</td>\n",
       "      <td>1016.24</td>\n",
       "    </tr>\n",
       "    <tr>\n",
       "      <th>3</th>\n",
       "      <td>0.92</td>\n",
       "      <td>385.33</td>\n",
       "      <td>137.47</td>\n",
       "      <td>308.06</td>\n",
       "      <td>7.25</td>\n",
       "      <td>577.38</td>\n",
       "    </tr>\n",
       "    <tr>\n",
       "      <th>4</th>\n",
       "      <td>1.04</td>\n",
       "      <td>2645.71</td>\n",
       "      <td>132.79</td>\n",
       "      <td>1217.66</td>\n",
       "      <td>9.63</td>\n",
       "      <td>2075.04</td>\n",
       "    </tr>\n",
       "  </tbody>\n",
       "</table>\n",
       "</div>"
      ],
      "text/plain": [
       "   Indeks stabilitas sistem keuangan     IHSG    IHPR  Perkembangan Kredit  \\\n",
       "0                               0.96  2598.33  131.89              1158.72   \n",
       "1                               0.96   416.67  135.89               133.03   \n",
       "2                               1.06  1069.48  124.97               446.02   \n",
       "3                               0.92   385.33  137.47               308.06   \n",
       "4                               1.04  2645.71  132.79              1217.66   \n",
       "\n",
       "   Kurs  Jumlah uang  beredar  \n",
       "0  9.59               1991.58  \n",
       "1  8.48                684.34  \n",
       "2  9.10               1016.24  \n",
       "3  7.25                577.38  \n",
       "4  9.63               2075.04  "
      ]
     },
     "execution_count": 4,
     "metadata": {},
     "output_type": "execute_result"
    }
   ],
   "source": [
    "#Melihat 5 data pertama\n",
    "data.head()"
   ]
  },
  {
   "cell_type": "code",
   "execution_count": 5,
   "metadata": {},
   "outputs": [
    {
     "name": "stdout",
     "output_type": "stream",
     "text": [
      "<class 'pandas.core.frame.DataFrame'>\n",
      "RangeIndex: 50 entries, 0 to 49\n",
      "Data columns (total 6 columns):\n",
      " #   Column                             Non-Null Count  Dtype  \n",
      "---  ------                             --------------  -----  \n",
      " 0   Indeks stabilitas sistem keuangan  50 non-null     float64\n",
      " 1   IHSG                               50 non-null     float64\n",
      " 2   IHPR                               50 non-null     float64\n",
      " 3   Perkembangan Kredit                50 non-null     float64\n",
      " 4   Kurs                               50 non-null     float64\n",
      " 5   Jumlah uang  beredar               50 non-null     float64\n",
      "dtypes: float64(6)\n",
      "memory usage: 2.5 KB\n"
     ]
    }
   ],
   "source": [
    "#Memahami info masing-masing variabel\n",
    "data.info()"
   ]
  },
  {
   "cell_type": "code",
   "execution_count": 6,
   "metadata": {},
   "outputs": [
    {
     "data": {
      "text/html": [
       "<div>\n",
       "<style scoped>\n",
       "    .dataframe tbody tr th:only-of-type {\n",
       "        vertical-align: middle;\n",
       "    }\n",
       "\n",
       "    .dataframe tbody tr th {\n",
       "        vertical-align: top;\n",
       "    }\n",
       "\n",
       "    .dataframe thead th {\n",
       "        text-align: right;\n",
       "    }\n",
       "</style>\n",
       "<table border=\"1\" class=\"dataframe\">\n",
       "  <thead>\n",
       "    <tr style=\"text-align: right;\">\n",
       "      <th></th>\n",
       "      <th>Indeks stabilitas sistem keuangan</th>\n",
       "      <th>IHSG</th>\n",
       "      <th>IHPR</th>\n",
       "      <th>Perkembangan Kredit</th>\n",
       "      <th>Kurs</th>\n",
       "      <th>Jumlah uang  beredar</th>\n",
       "    </tr>\n",
       "  </thead>\n",
       "  <tbody>\n",
       "    <tr>\n",
       "      <th>count</th>\n",
       "      <td>50.000000</td>\n",
       "      <td>50.000000</td>\n",
       "      <td>50.000000</td>\n",
       "      <td>50.00000</td>\n",
       "      <td>50.000000</td>\n",
       "      <td>50.000000</td>\n",
       "    </tr>\n",
       "    <tr>\n",
       "      <th>mean</th>\n",
       "      <td>0.965200</td>\n",
       "      <td>2607.165400</td>\n",
       "      <td>150.964600</td>\n",
       "      <td>1965.57500</td>\n",
       "      <td>10.201800</td>\n",
       "      <td>2179.935000</td>\n",
       "    </tr>\n",
       "    <tr>\n",
       "      <th>std</th>\n",
       "      <td>0.141078</td>\n",
       "      <td>1907.860695</td>\n",
       "      <td>21.987873</td>\n",
       "      <td>4086.69641</td>\n",
       "      <td>1.816446</td>\n",
       "      <td>1470.262341</td>\n",
       "    </tr>\n",
       "    <tr>\n",
       "      <th>min</th>\n",
       "      <td>0.700000</td>\n",
       "      <td>366.670000</td>\n",
       "      <td>121.000000</td>\n",
       "      <td>133.03000</td>\n",
       "      <td>7.230000</td>\n",
       "      <td>216.370000</td>\n",
       "    </tr>\n",
       "    <tr>\n",
       "      <th>25%</th>\n",
       "      <td>0.902500</td>\n",
       "      <td>603.585000</td>\n",
       "      <td>136.260000</td>\n",
       "      <td>308.79250</td>\n",
       "      <td>9.005000</td>\n",
       "      <td>880.702500</td>\n",
       "    </tr>\n",
       "    <tr>\n",
       "      <th>50%</th>\n",
       "      <td>0.980000</td>\n",
       "      <td>2622.020000</td>\n",
       "      <td>144.495000</td>\n",
       "      <td>1188.19000</td>\n",
       "      <td>9.610000</td>\n",
       "      <td>1784.050000</td>\n",
       "    </tr>\n",
       "    <tr>\n",
       "      <th>75%</th>\n",
       "      <td>1.060000</td>\n",
       "      <td>4367.180000</td>\n",
       "      <td>157.137500</td>\n",
       "      <td>2450.83250</td>\n",
       "      <td>11.577500</td>\n",
       "      <td>3372.795000</td>\n",
       "    </tr>\n",
       "    <tr>\n",
       "      <th>max</th>\n",
       "      <td>1.240000</td>\n",
       "      <td>5419.450000</td>\n",
       "      <td>194.540000</td>\n",
       "      <td>29004.09000</td>\n",
       "      <td>14.060000</td>\n",
       "      <td>4884.040000</td>\n",
       "    </tr>\n",
       "  </tbody>\n",
       "</table>\n",
       "</div>"
      ],
      "text/plain": [
       "       Indeks stabilitas sistem keuangan         IHSG        IHPR  \\\n",
       "count                          50.000000    50.000000   50.000000   \n",
       "mean                            0.965200  2607.165400  150.964600   \n",
       "std                             0.141078  1907.860695   21.987873   \n",
       "min                             0.700000   366.670000  121.000000   \n",
       "25%                             0.902500   603.585000  136.260000   \n",
       "50%                             0.980000  2622.020000  144.495000   \n",
       "75%                             1.060000  4367.180000  157.137500   \n",
       "max                             1.240000  5419.450000  194.540000   \n",
       "\n",
       "       Perkembangan Kredit       Kurs  Jumlah uang  beredar  \n",
       "count             50.00000  50.000000             50.000000  \n",
       "mean            1965.57500  10.201800           2179.935000  \n",
       "std             4086.69641   1.816446           1470.262341  \n",
       "min              133.03000   7.230000            216.370000  \n",
       "25%              308.79250   9.005000            880.702500  \n",
       "50%             1188.19000   9.610000           1784.050000  \n",
       "75%             2450.83250  11.577500           3372.795000  \n",
       "max            29004.09000  14.060000           4884.040000  "
      ]
     },
     "execution_count": 6,
     "metadata": {},
     "output_type": "execute_result"
    }
   ],
   "source": [
    "#Melihat ringkasan 5 angka dari data\n",
    "data.describe()"
   ]
  },
  {
   "cell_type": "markdown",
   "metadata": {},
   "source": [
    "### Data Preprocessing"
   ]
  },
  {
   "cell_type": "markdown",
   "metadata": {},
   "source": [
    "#### Cek Tipe Data"
   ]
  },
  {
   "cell_type": "code",
   "execution_count": 7,
   "metadata": {},
   "outputs": [
    {
     "data": {
      "text/plain": [
       "Indeks stabilitas sistem keuangan    float64\n",
       "IHSG                                 float64\n",
       "IHPR                                 float64\n",
       "Perkembangan Kredit                  float64\n",
       "Kurs                                 float64\n",
       "Jumlah uang  beredar                 float64\n",
       "dtype: object"
      ]
     },
     "execution_count": 7,
     "metadata": {},
     "output_type": "execute_result"
    }
   ],
   "source": [
    "data.dtypes"
   ]
  },
  {
   "cell_type": "markdown",
   "metadata": {},
   "source": [
    "#### Cek Duplikat data"
   ]
  },
  {
   "cell_type": "code",
   "execution_count": 8,
   "metadata": {},
   "outputs": [
    {
     "data": {
      "text/plain": [
       "(50, 6)"
      ]
     },
     "execution_count": 8,
     "metadata": {},
     "output_type": "execute_result"
    }
   ],
   "source": [
    "#Drop duplicate value\n",
    "data.drop_duplicates(inplace=True)\n",
    "data.shape"
   ]
  },
  {
   "cell_type": "markdown",
   "metadata": {},
   "source": [
    "#### Cek Missing Value"
   ]
  },
  {
   "cell_type": "code",
   "execution_count": 9,
   "metadata": {},
   "outputs": [
    {
     "data": {
      "text/plain": [
       "Indeks stabilitas sistem keuangan    0\n",
       "IHSG                                 0\n",
       "IHPR                                 0\n",
       "Perkembangan Kredit                  0\n",
       "Kurs                                 0\n",
       "Jumlah uang  beredar                 0\n",
       "dtype: int64"
      ]
     },
     "execution_count": 9,
     "metadata": {},
     "output_type": "execute_result"
    }
   ],
   "source": [
    "data.isnull().sum()"
   ]
  },
  {
   "cell_type": "markdown",
   "metadata": {},
   "source": [
    "### Cek Outlier"
   ]
  },
  {
   "cell_type": "code",
   "execution_count": 10,
   "metadata": {},
   "outputs": [
    {
     "data": {
      "text/plain": [
       "<matplotlib.axes._subplots.AxesSubplot at 0x16f19505348>"
      ]
     },
     "execution_count": 10,
     "metadata": {},
     "output_type": "execute_result"
    },
    {
     "data": {
      "image/png": "[encoded data removed]",
      "text/plain": [
       "<Figure size 432x288 with 1 Axes>"
      ]
     },
     "metadata": {
      "needs_background": "light"
     },
     "output_type": "display_data"
    }
   ],
   "source": [
    "sns.boxplot(data[\"Indeks stabilitas sistem keuangan\"])"
   ]
  },
  {
   "cell_type": "code",
   "execution_count": 11,
   "metadata": {},
   "outputs": [
    {
     "data": {
      "text/plain": [
       "<matplotlib.axes._subplots.AxesSubplot at 0x16f195e58c8>"
      ]
     },
     "execution_count": 11,
     "metadata": {},
     "output_type": "execute_result"
    },
    {
     "data": {
      "image/png": "[encoded data removed]",
      "text/plain": [
       "<Figure size 432x288 with 1 Axes>"
      ]
     },
     "metadata": {
      "needs_background": "light"
     },
     "output_type": "display_data"
    }
   ],
   "source": [
    "sns.boxplot(data[\"IHSG\"])"
   ]
  },
  {
   "cell_type": "code",
   "execution_count": 12,
   "metadata": {},
   "outputs": [
    {
     "data": {
      "text/plain": [
       "<matplotlib.axes._subplots.AxesSubplot at 0x16f19641f48>"
      ]
     },
     "execution_count": 12,
     "metadata": {},
     "output_type": "execute_result"
    },
    {
     "data": {
      "image/png": "[encoded data removed]",
      "text/plain": [
       "<Figure size 432x288 with 1 Axes>"
      ]
     },
     "metadata": {
      "needs_background": "light"
     },
     "output_type": "display_data"
    }
   ],
   "source": [
    "sns.boxplot(data[\"IHPR\"])"
   ]
  },
  {
   "cell_type": "code",
   "execution_count": 13,
   "metadata": {},
   "outputs": [
    {
     "data": {
      "text/plain": [
       "<matplotlib.axes._subplots.AxesSubplot at 0x16f196be488>"
      ]
     },
     "execution_count": 13,
     "metadata": {},
     "output_type": "execute_result"
    },
    {
     "data": {
      "image/png": "[encoded data removed]",
      "text/plain": [
       "<Figure size 432x288 with 1 Axes>"
      ]
     },
     "metadata": {
      "needs_background": "light"
     },
     "output_type": "display_data"
    }
   ],
   "source": [
    "sns.boxplot(data[\"Perkembangan Kredit\"])"
   ]
  },
  {
   "cell_type": "code",
   "execution_count": 14,
   "metadata": {},
   "outputs": [
    {
     "data": {
      "text/plain": [
       "<matplotlib.axes._subplots.AxesSubplot at 0x16f1970b848>"
      ]
     },
     "execution_count": 14,
     "metadata": {},
     "output_type": "execute_result"
    },
    {
     "data": {
      "image/png": "[encoded data removed]",
      "text/plain": [
       "<Figure size 432x288 with 1 Axes>"
      ]
     },
     "metadata": {
      "needs_background": "light"
     },
     "output_type": "display_data"
    }
   ],
   "source": [
    "sns.boxplot(data[\"Kurs\"])"
   ]
  },
  {
   "cell_type": "code",
   "execution_count": 15,
   "metadata": {},
   "outputs": [
    {
     "data": {
      "text/plain": [
       "<matplotlib.axes._subplots.AxesSubplot at 0x16f197a8648>"
      ]
     },
     "execution_count": 15,
     "metadata": {},
     "output_type": "execute_result"
    },
    {
     "data": {
      "image/png": "[encoded data removed]",
      "text/plain": [
       "<Figure size 432x288 with 1 Axes>"
      ]
     },
     "metadata": {
      "needs_background": "light"
     },
     "output_type": "display_data"
    }
   ],
   "source": [
    "sns.boxplot(data[\"Jumlah uang  beredar\"])"
   ]
  },
  {
   "cell_type": "code",
   "execution_count": 16,
   "metadata": {},
   "outputs": [],
   "source": [
    "#membuat fungsi untuk mendeteksi outlier dengan lower bound dan upper bound\n",
    "def outlier(sample):\n",
    "    Q1=sample.quantile(0.25)\n",
    "    Q3=sample.quantile(0.75)\n",
    "    IQR=Q3-Q1\n",
    "    lower_range = Q1 -(1.5 * IQR)\n",
    "    upper_range = Q3 +(1.5 * IQR)\n",
    "    number_outlier=len(sample[sample>upper_range])+len(sample[sample<lower_range])\n",
    "    print(\"Number of Outlier {}\".format(number_outlier))\n",
    "    if number_outlier>0:\n",
    "        print(\"Outlier observation row:\")\n",
    "    else:\n",
    "        pass\n",
    "    for i in range(len(sample)):\n",
    "        if sample[i]<lower_range: \n",
    "            print(i)\n",
    "        elif sample[i]>upper_range:\n",
    "            print(i)\n",
    "        else:\n",
    "            pass"
   ]
  },
  {
   "cell_type": "code",
   "execution_count": 17,
   "metadata": {},
   "outputs": [
    {
     "name": "stdout",
     "output_type": "stream",
     "text": [
      "Number of Outlier 6\n",
      "Outlier observation row:\n",
      "8\n",
      "9\n",
      "11\n",
      "27\n",
      "30\n",
      "42\n"
     ]
    }
   ],
   "source": [
    "outlier(data[\"IHPR\"])"
   ]
  },
  {
   "cell_type": "code",
   "execution_count": 18,
   "metadata": {},
   "outputs": [
    {
     "data": {
      "text/plain": [
       "8     191.90\n",
       "9     190.02\n",
       "11    193.13\n",
       "27    194.54\n",
       "30    188.55\n",
       "42    193.83\n",
       "Name: IHPR, dtype: float64"
      ]
     },
     "execution_count": 18,
     "metadata": {},
     "output_type": "execute_result"
    }
   ],
   "source": [
    "data.loc[(8,9,11,27,30,42),\"IHPR\"]"
   ]
  },
  {
   "cell_type": "code",
   "execution_count": 19,
   "metadata": {},
   "outputs": [
    {
     "name": "stdout",
     "output_type": "stream",
     "text": [
      "Number of Outlier 1\n",
      "Outlier observation row:\n",
      "39\n"
     ]
    }
   ],
   "source": [
    "outlier(data[\"Perkembangan Kredit\"])"
   ]
  },
  {
   "cell_type": "code",
   "execution_count": 20,
   "metadata": {},
   "outputs": [
    {
     "data": {
      "text/plain": [
       "29004.09"
      ]
     },
     "execution_count": 20,
     "metadata": {},
     "output_type": "execute_result"
    }
   ],
   "source": [
    "data.loc[39,\"Perkembangan Kredit\"]"
   ]
  },
  {
   "cell_type": "markdown",
   "metadata": {},
   "source": [
    "#### Melihat Korelasi antar variabel"
   ]
  },
  {
   "cell_type": "code",
   "execution_count": 21,
   "metadata": {},
   "outputs": [
    {
     "data": {
      "text/plain": [
       "<matplotlib.axes._subplots.AxesSubplot at 0x16f1982a588>"
      ]
     },
     "execution_count": 21,
     "metadata": {},
     "output_type": "execute_result"
    },
    {
     "data": {
      "image/png": "[encoded data removed]",
      "text/plain": [
       "<Figure size 864x576 with 2 Axes>"
      ]
     },
     "metadata": {
      "needs_background": "light"
     },
     "output_type": "display_data"
    }
   ],
   "source": [
    "cor=data.corr()\n",
    "plt.figure(figsize=(12,8))\n",
    "sns.heatmap(cor,annot=True,vmin=-1,vmax=1)"
   ]
  },
  {
   "cell_type": "code",
   "execution_count": 58,
   "metadata": {},
   "outputs": [
    {
     "data": {
      "text/plain": [
       "<seaborn.axisgrid.PairGrid at 0x140db9c3388>"
      ]
     },
     "execution_count": 58,
     "metadata": {},
     "output_type": "execute_result"
    },
    {
     "data": {
      "image/png": "[encoded data removed]",
      "text/plain": [
       "<Figure size 1080x1080 with 42 Axes>"
      ]
     },
     "metadata": {
      "needs_background": "light"
     },
     "output_type": "display_data"
    }
   ],
   "source": [
    "sns.pairplot(data=data)"
   ]
  },
  {
   "cell_type": "markdown",
   "metadata": {},
   "source": [
    "#### Feature Scalling"
   ]
  },
  {
   "cell_type": "code",
   "execution_count": 22,
   "metadata": {},
   "outputs": [],
   "source": [
    "from sklearn.preprocessing import StandardScaler\n",
    "\n",
    "#Memisah variabel dependen dan independen\n",
    "y=data[\"Indeks stabilitas sistem keuangan\"]\n",
    "x=data.iloc[:,1:]\n",
    "\n",
    "#Standarisasi pada variabel independen\n",
    "scale=StandardScaler()\n",
    "x=scale.fit_transform(x)\n",
    "x=pd.DataFrame(data=x,columns=[\"IHSG\",\"IHPR\",\"Perkembangan Kredit\",\"Kurs\",\"Jumlah uang  beredar\"])"
   ]
  },
  {
   "cell_type": "code",
   "execution_count": 40,
   "metadata": {},
   "outputs": [],
   "source": [
    "y=np.log(y)"
   ]
  },
  {
   "cell_type": "markdown",
   "metadata": {},
   "source": [
    "#### Partisi Data"
   ]
  },
  {
   "cell_type": "code",
   "execution_count": 41,
   "metadata": {},
   "outputs": [],
   "source": [
    "from sklearn.model_selection import train_test_split\n",
    "X_train, X_test, y_train, y_test = train_test_split(x, y, test_size=0.2, random_state=42)"
   ]
  },
  {
   "cell_type": "markdown",
   "metadata": {},
   "source": [
    "### Modeling"
   ]
  },
  {
   "cell_type": "code",
   "execution_count": 25,
   "metadata": {},
   "outputs": [],
   "source": [
    "import statsmodels.api as sm\n",
    "from statsmodels.stats.outliers_influence import variance_inflation_factor\n",
    "from scipy import stats"
   ]
  },
  {
   "cell_type": "markdown",
   "metadata": {},
   "source": [
    "#### Regresi Linear"
   ]
  },
  {
   "cell_type": "code",
   "execution_count": 42,
   "metadata": {},
   "outputs": [],
   "source": [
    "X_train2 = sm.add_constant(X_train)\n",
    "est = sm.OLS(y_train, X_train2)\n",
    "est2 = est.fit()"
   ]
  },
  {
   "cell_type": "code",
   "execution_count": 43,
   "metadata": {},
   "outputs": [
    {
     "name": "stdout",
     "output_type": "stream",
     "text": [
      "                                    OLS Regression Results                                   \n",
      "=============================================================================================\n",
      "Dep. Variable:     Indeks stabilitas sistem keuangan   R-squared:                       0.795\n",
      "Model:                                           OLS   Adj. R-squared:                  0.765\n",
      "Method:                                Least Squares   F-statistic:                     26.38\n",
      "Date:                               Fri, 14 Aug 2020   Prob (F-statistic):           8.44e-11\n",
      "Time:                                       15:43:07   Log-Likelihood:                 50.909\n",
      "No. Observations:                                 40   AIC:                            -89.82\n",
      "Df Residuals:                                     34   BIC:                            -79.69\n",
      "Df Model:                                          5                                         \n",
      "Covariance Type:                           nonrobust                                         \n",
      "========================================================================================\n",
      "                           coef    std err          t      P>|t|      [0.025      0.975]\n",
      "----------------------------------------------------------------------------------------\n",
      "const                   -0.1965      0.048     -4.090      0.000      -0.294      -0.099\n",
      "IHSG                     0.2109      0.075      2.807      0.008       0.058       0.364\n",
      "IHPR                    -0.0578      0.035     -1.670      0.104      -0.128       0.013\n",
      "Perkembangan Kredit     -1.0919      0.365     -2.994      0.005      -1.833      -0.351\n",
      "Kurs                     0.1491      0.056      2.650      0.012       0.035       0.264\n",
      "Jumlah uang  beredar    -0.0899      0.057     -1.564      0.127      -0.207       0.027\n",
      "==============================================================================\n",
      "Omnibus:                        4.784   Durbin-Watson:                   1.548\n",
      "Prob(Omnibus):                  0.091   Jarque-Bera (JB):                3.696\n",
      "Skew:                           0.726   Prob(JB):                        0.158\n",
      "Kurtosis:                       3.333   Cond. No.                         62.6\n",
      "==============================================================================\n",
      "\n",
      "Warnings:\n",
      "[1] Standard Errors assume that the covariance matrix of the errors is correctly specified.\n"
     ]
    }
   ],
   "source": [
    "print(est2.summary())"
   ]
  },
  {
   "cell_type": "code",
   "execution_count": 44,
   "metadata": {},
   "outputs": [
    {
     "name": "stdout",
     "output_type": "stream",
     "text": [
      "                                    OLS Regression Results                                   \n",
      "=============================================================================================\n",
      "Dep. Variable:     Indeks stabilitas sistem keuangan   R-squared:                       0.780\n",
      "Model:                                           OLS   Adj. R-squared:                  0.755\n",
      "Method:                                Least Squares   F-statistic:                     31.08\n",
      "Date:                               Fri, 14 Aug 2020   Prob (F-statistic):           4.45e-11\n",
      "Time:                                       15:44:30   Log-Likelihood:                 49.520\n",
      "No. Observations:                                 40   AIC:                            -89.04\n",
      "Df Residuals:                                     35   BIC:                            -80.59\n",
      "Df Model:                                          4                                         \n",
      "Covariance Type:                           nonrobust                                         \n",
      "=======================================================================================\n",
      "                          coef    std err          t      P>|t|      [0.025      0.975]\n",
      "---------------------------------------------------------------------------------------\n",
      "const                  -0.2133      0.048     -4.463      0.000      -0.310      -0.116\n",
      "IHSG                    0.1892      0.075      2.511      0.017       0.036       0.342\n",
      "IHPR                   -0.0643      0.035     -1.832      0.075      -0.135       0.007\n",
      "Perkembangan Kredit    -1.2244      0.362     -3.382      0.002      -1.959      -0.489\n",
      "Kurs                    0.1272      0.056      2.287      0.028       0.014       0.240\n",
      "==============================================================================\n",
      "Omnibus:                        3.981   Durbin-Watson:                   1.666\n",
      "Prob(Omnibus):                  0.137   Jarque-Bera (JB):                3.154\n",
      "Skew:                           0.685   Prob(JB):                        0.207\n",
      "Kurtosis:                       3.127   Cond. No.                         52.7\n",
      "==============================================================================\n",
      "\n",
      "Warnings:\n",
      "[1] Standard Errors assume that the covariance matrix of the errors is correctly specified.\n"
     ]
    }
   ],
   "source": [
    "X_train2 = sm.add_constant(X_train.drop(labels=[\"Jumlah uang  beredar\"],axis=1))\n",
    "est = sm.OLS(y_train, X_train2)\n",
    "est2 = est.fit()\n",
    "print(est2.summary())"
   ]
  },
  {
   "cell_type": "code",
   "execution_count": 45,
   "metadata": {},
   "outputs": [
    {
     "name": "stdout",
     "output_type": "stream",
     "text": [
      "                                    OLS Regression Results                                   \n",
      "=============================================================================================\n",
      "Dep. Variable:     Indeks stabilitas sistem keuangan   R-squared:                       0.759\n",
      "Model:                                           OLS   Adj. R-squared:                  0.739\n",
      "Method:                                Least Squares   F-statistic:                     37.84\n",
      "Date:                               Fri, 14 Aug 2020   Prob (F-statistic):           3.18e-11\n",
      "Time:                                       15:44:49   Log-Likelihood:                 47.687\n",
      "No. Observations:                                 40   AIC:                            -87.37\n",
      "Df Residuals:                                     36   BIC:                            -80.62\n",
      "Df Model:                                          3                                         \n",
      "Covariance Type:                           nonrobust                                         \n",
      "=======================================================================================\n",
      "                          coef    std err          t      P>|t|      [0.025      0.975]\n",
      "---------------------------------------------------------------------------------------\n",
      "const                  -0.2604      0.042     -6.265      0.000      -0.345      -0.176\n",
      "IHSG                    0.2810      0.058      4.834      0.000       0.163       0.399\n",
      "Perkembangan Kredit    -1.6026      0.307     -5.221      0.000      -2.225      -0.980\n",
      "Kurs                    0.0970      0.055      1.768      0.085      -0.014       0.208\n",
      "==============================================================================\n",
      "Omnibus:                        0.793   Durbin-Watson:                   1.648\n",
      "Prob(Omnibus):                  0.673   Jarque-Bera (JB):                0.623\n",
      "Skew:                           0.297   Prob(JB):                        0.732\n",
      "Kurtosis:                       2.856   Cond. No.                         36.9\n",
      "==============================================================================\n",
      "\n",
      "Warnings:\n",
      "[1] Standard Errors assume that the covariance matrix of the errors is correctly specified.\n"
     ]
    }
   ],
   "source": [
    "X_train2 = sm.add_constant(X_train.drop(labels=[\"Jumlah uang  beredar\",\"IHPR\"],axis=1))\n",
    "est = sm.OLS(y_train, X_train2)\n",
    "est2 = est.fit()\n",
    "print(est2.summary())"
   ]
  },
  {
   "cell_type": "code",
   "execution_count": 46,
   "metadata": {},
   "outputs": [
    {
     "name": "stdout",
     "output_type": "stream",
     "text": [
      "                                    OLS Regression Results                                   \n",
      "=============================================================================================\n",
      "Dep. Variable:     Indeks stabilitas sistem keuangan   R-squared:                       0.738\n",
      "Model:                                           OLS   Adj. R-squared:                  0.724\n",
      "Method:                                Least Squares   F-statistic:                     52.19\n",
      "Date:                               Fri, 14 Aug 2020   Prob (F-statistic):           1.70e-11\n",
      "Time:                                       15:45:00   Log-Likelihood:                 46.021\n",
      "No. Observations:                                 40   AIC:                            -86.04\n",
      "Df Residuals:                                     37   BIC:                            -80.98\n",
      "Df Model:                                          2                                         \n",
      "Covariance Type:                           nonrobust                                         \n",
      "=======================================================================================\n",
      "                          coef    std err          t      P>|t|      [0.025      0.975]\n",
      "---------------------------------------------------------------------------------------\n",
      "const                  -0.2034      0.027     -7.537      0.000      -0.258      -0.149\n",
      "IHSG                    0.2409      0.055      4.377      0.000       0.129       0.352\n",
      "Perkembangan Kredit    -1.1590      0.182     -6.371      0.000      -1.528      -0.790\n",
      "==============================================================================\n",
      "Omnibus:                        1.858   Durbin-Watson:                   1.602\n",
      "Prob(Omnibus):                  0.395   Jarque-Bera (JB):                1.725\n",
      "Skew:                           0.476   Prob(JB):                        0.422\n",
      "Kurtosis:                       2.644   Cond. No.                         15.9\n",
      "==============================================================================\n",
      "\n",
      "Warnings:\n",
      "[1] Standard Errors assume that the covariance matrix of the errors is correctly specified.\n"
     ]
    }
   ],
   "source": [
    "X_train2 = sm.add_constant(X_train.drop(labels=[\"Jumlah uang  beredar\",\"IHPR\",\"Kurs\"],axis=1))\n",
    "est = sm.OLS(y_train, X_train2)\n",
    "est2 = est.fit()\n",
    "print(est2.summary())"
   ]
  },
  {
   "cell_type": "code",
   "execution_count": 47,
   "metadata": {},
   "outputs": [
    {
     "data": {
      "text/html": [
       "<div>\n",
       "<style scoped>\n",
       "    .dataframe tbody tr th:only-of-type {\n",
       "        vertical-align: middle;\n",
       "    }\n",
       "\n",
       "    .dataframe tbody tr th {\n",
       "        vertical-align: top;\n",
       "    }\n",
       "\n",
       "    .dataframe thead th {\n",
       "        text-align: right;\n",
       "    }\n",
       "</style>\n",
       "<table border=\"1\" class=\"dataframe\">\n",
       "  <thead>\n",
       "    <tr style=\"text-align: right;\">\n",
       "      <th></th>\n",
       "      <th>lb_stat</th>\n",
       "      <th>lb_pvalue</th>\n",
       "    </tr>\n",
       "  </thead>\n",
       "  <tbody>\n",
       "    <tr>\n",
       "      <th>20</th>\n",
       "      <td>21.977629</td>\n",
       "      <td>0.341726</td>\n",
       "    </tr>\n",
       "  </tbody>\n",
       "</table>\n",
       "</div>"
      ],
      "text/plain": [
       "      lb_stat  lb_pvalue\n",
       "20  21.977629   0.341726"
      ]
     },
     "execution_count": 47,
     "metadata": {},
     "output_type": "execute_result"
    }
   ],
   "source": [
    "#Cek autokorelasi\n",
    "import statsmodels.api as sm\n",
    "residual=est2.resid\n",
    "sm.stats.diagnostic.acorr_ljungbox(residual,lags=[20],return_df=True)"
   ]
  },
  {
   "cell_type": "code",
   "execution_count": 48,
   "metadata": {},
   "outputs": [
    {
     "data": {
      "text/html": [
       "<div>\n",
       "<style scoped>\n",
       "    .dataframe tbody tr th:only-of-type {\n",
       "        vertical-align: middle;\n",
       "    }\n",
       "\n",
       "    .dataframe tbody tr th {\n",
       "        vertical-align: top;\n",
       "    }\n",
       "\n",
       "    .dataframe thead th {\n",
       "        text-align: right;\n",
       "    }\n",
       "</style>\n",
       "<table border=\"1\" class=\"dataframe\">\n",
       "  <thead>\n",
       "    <tr style=\"text-align: right;\">\n",
       "      <th></th>\n",
       "      <th>VIF Factor</th>\n",
       "      <th>features</th>\n",
       "    </tr>\n",
       "  </thead>\n",
       "  <tbody>\n",
       "    <tr>\n",
       "      <th>0</th>\n",
       "      <td>4.883456</td>\n",
       "      <td>IHSG</td>\n",
       "    </tr>\n",
       "    <tr>\n",
       "      <th>1</th>\n",
       "      <td>4.883456</td>\n",
       "      <td>Perkembangan Kredit</td>\n",
       "    </tr>\n",
       "  </tbody>\n",
       "</table>\n",
       "</div>"
      ],
      "text/plain": [
       "   VIF Factor             features\n",
       "0    4.883456                 IHSG\n",
       "1    4.883456  Perkembangan Kredit"
      ]
     },
     "execution_count": 48,
     "metadata": {},
     "output_type": "execute_result"
    }
   ],
   "source": [
    "#Cek Multikolinearitas\n",
    "vif = pd.DataFrame()\n",
    "vif[\"VIF Factor\"] = [variance_inflation_factor(X_train.drop(labels=[\"Jumlah uang  beredar\",\n",
    "                                                                    \"IHPR\",\"Kurs\"],axis=1).values, i) for i in range(X_train.drop(labels=[\"Jumlah uang  beredar\",\n",
    "                                                                                                                                          \"IHPR\",\"Kurs\"],axis=1).shape[1])]\n",
    "vif[\"features\"] = X_train.drop(labels=[\"Jumlah uang  beredar\",\"IHPR\",\"Kurs\"],axis=1).columns\n",
    "vif"
   ]
  },
  {
   "cell_type": "code",
   "execution_count": 49,
   "metadata": {},
   "outputs": [
    {
     "name": "stdout",
     "output_type": "stream",
     "text": [
      "{'LM Statistic': 5.404228570057441, 'LM-Test p-value': 0.06706357123559081, 'F-Statistic': 2.889897360679512, 'F-Test p-value': 0.06820496871438742}\n"
     ]
    }
   ],
   "source": [
    "#Cek Homoskesdastisitas\n",
    "bp_test=sm.stats.diagnostic.het_breuschpagan(residual,est2.model.exog)\n",
    "labels = [\"LM Statistic\", \"LM-Test p-value\", \"F-Statistic\", \"F-Test p-value\"]\n",
    "print(dict(zip(labels, bp_test)))"
   ]
  },
  {
   "cell_type": "markdown",
   "metadata": {},
   "source": [
    "#### Evaluasi Model"
   ]
  },
  {
   "cell_type": "code",
   "execution_count": 50,
   "metadata": {},
   "outputs": [
    {
     "data": {
      "text/plain": [
       "5.686406590272892"
      ]
     },
     "execution_count": 50,
     "metadata": {},
     "output_type": "execute_result"
    }
   ],
   "source": [
    "from sklearn.metrics import mean_absolute_error,mean_squared_error,r2_score,mean_squared_log_error\n",
    "pred_lr=est2.predict(sm.add_constant(X_test.drop(labels=[\"Jumlah uang  beredar\",\"IHPR\",\"Kurs\"],axis=1)))\n",
    "mean_squared_error(y_test,pred_lr)"
   ]
  },
  {
   "cell_type": "markdown",
   "metadata": {},
   "source": [
    "### Regresi Ridge"
   ]
  },
  {
   "cell_type": "code",
   "execution_count": 51,
   "metadata": {},
   "outputs": [
    {
     "data": {
      "text/html": [
       "<div>\n",
       "<style scoped>\n",
       "    .dataframe tbody tr th:only-of-type {\n",
       "        vertical-align: middle;\n",
       "    }\n",
       "\n",
       "    .dataframe tbody tr th {\n",
       "        vertical-align: top;\n",
       "    }\n",
       "\n",
       "    .dataframe thead th {\n",
       "        text-align: right;\n",
       "    }\n",
       "</style>\n",
       "<table border=\"1\" class=\"dataframe\">\n",
       "  <thead>\n",
       "    <tr style=\"text-align: right;\">\n",
       "      <th></th>\n",
       "      <th>VIF Factor</th>\n",
       "      <th>features</th>\n",
       "    </tr>\n",
       "  </thead>\n",
       "  <tbody>\n",
       "    <tr>\n",
       "      <th>0</th>\n",
       "      <td>15.949809</td>\n",
       "      <td>IHSG</td>\n",
       "    </tr>\n",
       "    <tr>\n",
       "      <th>1</th>\n",
       "      <td>6.639688</td>\n",
       "      <td>IHPR</td>\n",
       "    </tr>\n",
       "    <tr>\n",
       "      <th>2</th>\n",
       "      <td>6.229725</td>\n",
       "      <td>Perkembangan Kredit</td>\n",
       "    </tr>\n",
       "    <tr>\n",
       "      <th>3</th>\n",
       "      <td>20.474934</td>\n",
       "      <td>Kurs</td>\n",
       "    </tr>\n",
       "    <tr>\n",
       "      <th>4</th>\n",
       "      <td>23.468013</td>\n",
       "      <td>Jumlah uang  beredar</td>\n",
       "    </tr>\n",
       "  </tbody>\n",
       "</table>\n",
       "</div>"
      ],
      "text/plain": [
       "   VIF Factor              features\n",
       "0   15.949809                  IHSG\n",
       "1    6.639688                  IHPR\n",
       "2    6.229725   Perkembangan Kredit\n",
       "3   20.474934                  Kurs\n",
       "4   23.468013  Jumlah uang  beredar"
      ]
     },
     "execution_count": 51,
     "metadata": {},
     "output_type": "execute_result"
    }
   ],
   "source": [
    "#Cek Multikolinearitas\n",
    "vif = pd.DataFrame()\n",
    "vif[\"VIF Factor\"] = [variance_inflation_factor(X_train.values, i) for i in range(X_train.shape[1])]\n",
    "vif[\"features\"] = X_train.columns\n",
    "vif"
   ]
  },
  {
   "cell_type": "code",
   "execution_count": 52,
   "metadata": {},
   "outputs": [],
   "source": [
    "#Melihat Keunggulan Ridge\n",
    "from sklearn.linear_model import Ridge\n",
    "coef=[]\n",
    "alphas = range(0,40)\n",
    "\n",
    "for a in alphas:\n",
    "  ridgereg=Ridge(alpha=a)\n",
    "  ridgereg.fit(X_train,y_train)\n",
    "  coef.append(ridgereg.coef_)"
   ]
  },
  {
   "cell_type": "code",
   "execution_count": 53,
   "metadata": {},
   "outputs": [
    {
     "data": {
      "image/png": "[encoded data removed]",
      "text/plain": [
       "<Figure size 1080x360 with 1 Axes>"
      ]
     },
     "metadata": {
      "needs_background": "light"
     },
     "output_type": "display_data"
    }
   ],
   "source": [
    "###Membuat plot antara alpha dan koefisien\n",
    "fig=plt.figure(figsize=(15,5))\n",
    "ax=fig.add_subplot(111)\n",
    "ax.plot(alphas,coef)\n",
    "ax.set_xlabel('Alpha (Regularization Parameter)')\n",
    "ax.set_ylabel('Beta (Predictor Coefficients)')\n",
    "ax.set_title('Ridge Coefficients vs Regularization Parameters')\n",
    "ax.axis('tight')\n",
    "###ax.legend(loc='best')\n",
    "fig.savefig('coef_vs_alpha.png')"
   ]
  },
  {
   "cell_type": "code",
   "execution_count": 56,
   "metadata": {},
   "outputs": [
    {
     "name": "stdout",
     "output_type": "stream",
     "text": [
      "1\n",
      "-0.06197786302757129\n",
      "[ 0.02232589 -0.09728244 -0.04418331  0.03878781 -0.07751509]\n"
     ]
    }
   ],
   "source": [
    "#Membangun model regresi ridge dengan nilai alpha terbaik\n",
    "from sklearn.linear_model import RidgeCV\n",
    "regr_cv=RidgeCV(alphas=range(1,40))\n",
    "model_cv=regr_cv.fit(X_train,y_train)\n",
    "\n",
    "#alpha terbaik\n",
    "print(model_cv.alpha_)\n",
    "\n",
    "#Parameter regresi ridge\n",
    "print(model_cv.intercept_)\n",
    "print(model_cv.coef_)"
   ]
  },
  {
   "cell_type": "code",
   "execution_count": 57,
   "metadata": {},
   "outputs": [
    {
     "data": {
      "text/html": [
       "<div>\n",
       "<style scoped>\n",
       "    .dataframe tbody tr th:only-of-type {\n",
       "        vertical-align: middle;\n",
       "    }\n",
       "\n",
       "    .dataframe tbody tr th {\n",
       "        vertical-align: top;\n",
       "    }\n",
       "\n",
       "    .dataframe thead th {\n",
       "        text-align: right;\n",
       "    }\n",
       "</style>\n",
       "<table border=\"1\" class=\"dataframe\">\n",
       "  <thead>\n",
       "    <tr style=\"text-align: right;\">\n",
       "      <th></th>\n",
       "      <th>lb_stat</th>\n",
       "      <th>lb_pvalue</th>\n",
       "    </tr>\n",
       "  </thead>\n",
       "  <tbody>\n",
       "    <tr>\n",
       "      <th>20</th>\n",
       "      <td>38.546217</td>\n",
       "      <td>0.007589</td>\n",
       "    </tr>\n",
       "  </tbody>\n",
       "</table>\n",
       "</div>"
      ],
      "text/plain": [
       "      lb_stat  lb_pvalue\n",
       "20  38.546217   0.007589"
      ]
     },
     "execution_count": 57,
     "metadata": {},
     "output_type": "execute_result"
    }
   ],
   "source": [
    "#Cek autokorelasi\n",
    "import statsmodels.api as sm\n",
    "residual1=y_train-(model_cv.predict(X_train))\n",
    "sm.stats.diagnostic.acorr_ljungbox(residual1,lags=[20],return_df=True)"
   ]
  },
  {
   "cell_type": "code",
   "execution_count": 58,
   "metadata": {},
   "outputs": [
    {
     "name": "stdout",
     "output_type": "stream",
     "text": [
      "{'LM Statistic': 20.001209986254516, 'LM-Test p-value': 0.0004991246356961807, 'F-Statistic': 7.000847041623597, 'F-Test p-value': 0.00012602257311735963}\n"
     ]
    }
   ],
   "source": [
    "#Cek Homoskesdastisitas\n",
    "bp_test=sm.stats.diagnostic.het_breuschpagan(residual1,X_train)\n",
    "labels = [\"LM Statistic\", \"LM-Test p-value\", \"F-Statistic\", \"F-Test p-value\"]\n",
    "print(dict(zip(labels, bp_test)))"
   ]
  },
  {
   "cell_type": "code",
   "execution_count": 59,
   "metadata": {},
   "outputs": [
    {
     "data": {
      "text/plain": [
       "(4.1669630607820665, 0.12449602013306271)"
      ]
     },
     "execution_count": 59,
     "metadata": {},
     "output_type": "execute_result"
    }
   ],
   "source": [
    "#Cek Normalitas\n",
    "import scipy\n",
    "scipy.stats.jarque_bera(residual1)"
   ]
  },
  {
   "cell_type": "markdown",
   "metadata": {},
   "source": [
    "#### Evaluasi Model"
   ]
  },
  {
   "cell_type": "code",
   "execution_count": 60,
   "metadata": {},
   "outputs": [
    {
     "data": {
      "text/plain": [
       "0.7371380146573441"
      ]
     },
     "execution_count": 60,
     "metadata": {},
     "output_type": "execute_result"
    }
   ],
   "source": [
    "#R Square\n",
    "r2=r2_score(y_train,model_cv.predict(X_train))\n",
    "r2"
   ]
  },
  {
   "cell_type": "code",
   "execution_count": 61,
   "metadata": {},
   "outputs": [
    {
     "data": {
      "text/plain": [
       "0.6984818403422477"
      ]
     },
     "execution_count": 61,
     "metadata": {},
     "output_type": "execute_result"
    }
   ],
   "source": [
    "#Adjusted R square\n",
    "adjusted_r_squared = 1 - (1-r2)*(len(y_train)-1)/(len(y_train)-X_train.shape[1]-1)\n",
    "adjusted_r_squared"
   ]
  },
  {
   "cell_type": "code",
   "execution_count": 62,
   "metadata": {},
   "outputs": [
    {
     "data": {
      "text/plain": [
       "0.02009864828206541"
      ]
     },
     "execution_count": 62,
     "metadata": {},
     "output_type": "execute_result"
    }
   ],
   "source": [
    "#MSE\n",
    "pred_lridge=model_cv.predict(X_test)\n",
    "mean_squared_error(y_test,pred_lridge)"
   ]
  },
  {
   "cell_type": "markdown",
   "metadata": {},
   "source": [
    "### Regresi Polinomial"
   ]
  },
  {
   "cell_type": "code",
   "execution_count": 63,
   "metadata": {},
   "outputs": [],
   "source": [
    "from sklearn.preprocessing import PolynomialFeatures\n",
    "\n",
    "poly = PolynomialFeatures(degree=2)\n",
    "poly_variables = poly.fit_transform(x.drop(labels=[\"Jumlah uang  beredar\",\"IHPR\",\"Kurs\"],axis=1))\n",
    "\n",
    "poly_var_train, poly_var_test, res_train, res_test = train_test_split(poly_variables, y, test_size = 0.2, random_state = 42)"
   ]
  },
  {
   "cell_type": "code",
   "execution_count": 64,
   "metadata": {},
   "outputs": [
    {
     "name": "stdout",
     "output_type": "stream",
     "text": [
      "                                    OLS Regression Results                                   \n",
      "=============================================================================================\n",
      "Dep. Variable:     Indeks stabilitas sistem keuangan   R-squared:                       0.755\n",
      "Model:                                           OLS   Adj. R-squared:                  0.719\n",
      "Method:                                Least Squares   F-statistic:                     20.99\n",
      "Date:                               Fri, 14 Aug 2020   Prob (F-statistic):           1.60e-09\n",
      "Time:                                       16:18:17   Log-Likelihood:                 47.364\n",
      "No. Observations:                                 40   AIC:                            -82.73\n",
      "Df Residuals:                                     34   BIC:                            -72.60\n",
      "Df Model:                                          5                                         \n",
      "Covariance Type:                           nonrobust                                         \n",
      "==============================================================================\n",
      "                 coef    std err          t      P>|t|      [0.025      0.975]\n",
      "------------------------------------------------------------------------------\n",
      "const         -0.0827      0.183     -0.452      0.654      -0.454       0.289\n",
      "x1             0.1828      0.419      0.436      0.666      -0.669       1.035\n",
      "x2            -1.0405      1.315     -0.791      0.434      -3.712       1.631\n",
      "x3            -0.1354      0.310     -0.437      0.665      -0.764       0.494\n",
      "x4             0.9068      2.001      0.453      0.653      -3.159       4.973\n",
      "x5            -2.1814      3.058     -0.713      0.480      -8.395       4.033\n",
      "==============================================================================\n",
      "Omnibus:                        1.043   Durbin-Watson:                   1.399\n",
      "Prob(Omnibus):                  0.594   Jarque-Bera (JB):                0.861\n",
      "Skew:                           0.349   Prob(JB):                        0.650\n",
      "Kurtosis:                       2.826   Cond. No.                         464.\n",
      "==============================================================================\n",
      "\n",
      "Warnings:\n",
      "[1] Standard Errors assume that the covariance matrix of the errors is correctly specified.\n"
     ]
    }
   ],
   "source": [
    "X_train2 = sm.add_constant(poly_var_train)\n",
    "est = sm.OLS(y_train, X_train2)\n",
    "est2 = est.fit()\n",
    "print(est2.summary())"
   ]
  },
  {
   "cell_type": "code",
   "execution_count": null,
   "metadata": {},
   "outputs": [],
   "source": []
  }
 ],
 "metadata": {
  "kernelspec": {
   "display_name": "Python 3",
   "language": "python",
   "name": "python3"
  },
  "language_info": {
   "codemirror_mode": {
    "name": "ipython",
    "version": 3
   },
   "file_extension": ".py",
   "mimetype": "text/x-python",
   "name": "python",
   "nbconvert_exporter": "python",
   "pygments_lexer": "ipython3",
   "version": "3.7.7"
  }
 },
 "nbformat": 4,
 "nbformat_minor": 4
}
